{
 "cells": [
  {
   "cell_type": "code",
   "execution_count": 3,
   "metadata": {
    "collapsed": false
   },
   "outputs": [
    {
     "ename": "TypeError",
     "evalue": "'encoding' is an invalid keyword argument for this function",
     "output_type": "error",
     "traceback": [
      "\u001b[1;31m---------------------------------------------------------------------------\u001b[0m",
      "\u001b[1;31mTypeError\u001b[0m                                 Traceback (most recent call last)",
      "\u001b[1;32m<ipython-input-3-6e414d4433e2>\u001b[0m in \u001b[0;36m<module>\u001b[1;34m()\u001b[0m\n\u001b[1;32m----> 1\u001b[1;33m \u001b[1;32mwith\u001b[0m \u001b[0mopen\u001b[0m\u001b[1;33m(\u001b[0m\u001b[1;34m\"C:\\\\GICA_DA\\\\temptest\\\\py_russia\\\\2015 bseg.xls\"\u001b[0m\u001b[1;33m,\u001b[0m\u001b[1;34m\"r\"\u001b[0m\u001b[1;33m,\u001b[0m\u001b[0mencoding\u001b[0m\u001b[1;33m=\u001b[0m\u001b[1;34m'utf-8'\u001b[0m\u001b[1;33m)\u001b[0m \u001b[1;32mas\u001b[0m \u001b[0morig\u001b[0m\u001b[1;33m,\u001b[0m        \u001b[0mopen\u001b[0m\u001b[1;33m(\u001b[0m\u001b[1;34m\"C:\\\\GICA_DA\\\\temptest\\\\py_russia\\\\RU_bseg15_check.xls\"\u001b[0m\u001b[1;33m,\u001b[0m\u001b[1;34m\"w\"\u001b[0m\u001b[1;33m,\u001b[0m\u001b[0mencoding\u001b[0m\u001b[1;33m=\u001b[0m\u001b[1;34m'utf-8'\u001b[0m\u001b[1;33m)\u001b[0m \u001b[1;32mas\u001b[0m \u001b[0mnew\u001b[0m\u001b[1;33m:\u001b[0m\u001b[1;33m\u001b[0m\u001b[0m\n\u001b[0m\u001b[0;32m      2\u001b[0m         \u001b[0mvar1\u001b[0m\u001b[1;33m=\u001b[0m\u001b[1;33m[\u001b[0m\u001b[0mnext\u001b[0m\u001b[1;33m(\u001b[0m\u001b[0morig\u001b[0m\u001b[1;33m)\u001b[0m \u001b[1;32mfor\u001b[0m \u001b[0mx\u001b[0m \u001b[1;32min\u001b[0m \u001b[0mxrange\u001b[0m\u001b[1;33m(\u001b[0m\u001b[1;36m20\u001b[0m\u001b[1;33m)\u001b[0m\u001b[1;33m]\u001b[0m\u001b[1;33m\u001b[0m\u001b[0m\n\u001b[0;32m      3\u001b[0m         \u001b[0mnew\u001b[0m\u001b[1;33m.\u001b[0m\u001b[0mwritelines\u001b[0m\u001b[1;33m(\u001b[0m\u001b[0mvar1\u001b[0m\u001b[1;33m)\u001b[0m\u001b[1;33m\u001b[0m\u001b[0m\n\u001b[0;32m      4\u001b[0m \u001b[0mnew\u001b[0m\u001b[1;33m.\u001b[0m\u001b[0mclose\u001b[0m\u001b[1;33m(\u001b[0m\u001b[1;33m)\u001b[0m\u001b[1;33m\u001b[0m\u001b[0m\n\u001b[0;32m      5\u001b[0m \u001b[0morig\u001b[0m\u001b[1;33m.\u001b[0m\u001b[0mclose\u001b[0m\u001b[1;33m(\u001b[0m\u001b[1;33m)\u001b[0m\u001b[1;33m\u001b[0m\u001b[0m\n",
      "\u001b[1;31mTypeError\u001b[0m: 'encoding' is an invalid keyword argument for this function"
     ]
    }
   ],
   "source": [
    "with open(\"C:\\\\GICA_DA\\\\temptest\\\\py_russia\\\\2015 bseg.xls\",\"r\",encoding='utf-8') as orig,\\\n",
    "        open(\"C:\\\\GICA_DA\\\\temptest\\\\py_russia\\\\RU_bseg15_check.xls\",\"w\",encoding='utf-8') as new:\n",
    "        var1=[next(orig) for x in xrange(20)]\n",
    "        new.writelines(var1)\n",
    "new.close()\n",
    "orig.close()"
   ]
  },
  {
   "cell_type": "code",
   "execution_count": 137,
   "metadata": {
    "collapsed": false,
    "scrolled": true
   },
   "outputs": [],
   "source": [
    "with open(\"C:\\\\GICA_DA\\\\Learning\\\\tableau\\\\FR_test10.xls\",\"r\") as new,\\\n",
    "    open(\"C:\\\\GICA_DA\\\\Learning\\\\tableau\\\\FR_test10_2check.xls\",\"w\") as newer: #FR_test10_2check\n",
    "        L=new.readlines()\n",
    "        newer.write(L[3].strip()+L[4].strip()+'\\n')\n",
    "        for count,line in enumerate(L,start=1):\n",
    "            if count % 2 ==0 and count>5 and count<len(L):\n",
    "                newer.write(L[count].strip()+L[count+1].strip()+'\\n')\n",
    "\n",
    "newer.close()\n",
    "new.close()\n"
   ]
  },
  {
   "cell_type": "code",
   "execution_count": null,
   "metadata": {
    "collapsed": false
   },
   "outputs": [],
   "source": [
    "import csv\n",
    "\n",
    "csvfile=open(\"C:\\\\GICA_DA\\\\Learning\\\\tableau\\\\FR_test10_2check.xls\",\"rb\")\n",
    "reader=csv.reader(csvfile,delimiter=\"|\")\n",
    "\n",
    "        "
   ]
  },
  {
   "cell_type": "markdown",
   "metadata": {},
   "source": [
    "2016/03/25                                                                                                                                                                                                                                                                                                                                                                                                                                                                                                            Dynamic List Display                                                                                                                                                                                                                                                                                                                                                                                                                                                                                                                    1\n",
    "---------------------------------------------------------------------------------------------------------------------------------------------------------------------------------------------------------------------------------------------------------------------------------------------------------------------------------------------------------------------------------------------------------------------------------------------------------------------------------------------------------------------------------------------------------------------------------------------------------------------------------------------------------------------------------------------------------------------------------------------------------------------------------------------------------------------------------------------------------------------------------------------------------------------------------------------------------------------------------------------------------------------------------------------------------------\n",
    "---------------------------------------------------------------------------------------------------------------------------------------------------------------------------------------------------------------------------------------------------------------------------------------------------------------------------------------------------------------------------------------------------------------------------------------------------------------------------------------------------------------------------------------------------------------------------------------------------------------------------------------------------------------------------------------------------------------------------------------------------------------------------------------------------------------------------------------------------------------------------------------------------------------------------------------------------------------------------------------------------------------------------------------------------------------\n",
    "|Run Date  |ID   | |CoCd|Vendor    |Customer  |Payee      |Payment   |Adv.|Crcy|BusA|Title       |Name 1                             |Name 2                             |Name 3                             |Name 4                      |Post.Code|City                               |Street                               |PO Box|Cty|Tax Number 1   |Plan.usage|Title       |Name of the payee                  |Name of the payee                  |Name of the payee                  |Name of the payee           |P.cde  |City                               |Payee's street                       |PO Box|Cty|RC |DS|Payee's acct no.  |Bank no. |CS|BnkT|SWIFT code|Coll.auth.|L |Pstng Date|P|S|TrgtSG/L|Acct ID|House Bk|Acct ID|House bk|BnkT|CS|Our account number|Ctry|Hsebnk no.|Account No|Value date|Value date|Return bef.|BoE du.d  |        LC pmt amt|Cash discnt(LC)|     Amount paid|Cash disc.|Charges 1|Charges 2|p.itms|No.Tl|Charges 1|Charges 2|Max.Amt per Bill/Ex|Max.Amt per Bill/Ex|Rem. Amt|Rem. Amt|Number|Clerk|Account No\n",
    "|Invest.ID|Issue date|Change|PBk|IK|I|Exch.rate|Set.cur.|Lost disc.(LC)|Lost c/disc(FC)|Imp.lost disc.|P.cde|Grouping|Bank Key |House bank|PO Box pcd|Snd. CC|LC2AmtPaid|LC3AmtPaid|Discount|Discount|Ex.rate 2\n",
    "---------------------------------------------------------------------------------------------------------------------------------------------------------------------------------------------------------------------------------------------------------------------------------------------------------------------------------------------------------------------------------------------------------------------------------------------------------------------------------------------------------------------------------------------------------------------------------------------------------------------------------------------------------------------------------------------------------------------------------------------------------------------------------------------------------------------------------------------------------------------------------------------------------------------------------------------------------------------------------------------------------------------------------------------------------------\n",
    "|2014/03/03|HRT02| |62B0|V62B100502|          |>V62B100073|2000000526|    |RUB |    |            |##### ## ###### ########## ###     |                                   |                                   |                            |         |                                   |######## 23                          |      |RU |               |          |Company     |### ## ## ## #.###### ( #### ## #4)|(#/# 40100770004)                  |                                   |                            |       |######                             |######                               |      |RU |   |RU|101810800000010041|044583001|40|0001|          |          |EN|2014/03/03|P| |        |HSR2   |HSR2    |       |        |    |40|702810300106101023|RU  |044525351 |1002030722|2014/03/03|          |           |          |       637,388.00-|          0.00 |     637,388.00-|     0.00 |    0.00 |    0.00 |    1 |   0 |    0.00 |    0.00 |              0.00 |              0.00 |   0.00 |   0.00 |    0 |     |\n",
    "|         |          |      |   |  | |  1.00000|        |         0.00 |          0.00 |         0.00 |     |        |044583001|044525351 |          |62B0   |     0.00 |     0.00 |   0.00 |   0.00 |         |\n",
    "|2014/03/03|HRT02|X|62B0|1430      |          |           |          |    |    |    |Company     |Haier Finance Co. Ltd              |                                   |                                   |                            |         |##                                 |NO.1,Haier Road#Hi-tech Zone #Qingd  |      |CN |370212737299246|          |Company     |Haier Finance Co. Ltd              |                                   |                                   |                            |       |##                                 |NO.1,Haier Road#Hi-tech Zone #Qingd  |      |CN |120|  |                  |         |  |    |          |          |EN|2014/03/03| | |        |       |        |       |        |    |  |                  |    |          |          |          |          |           |          |     1,031,944.07 |          0.00 |      29,900.64 |     0.00 |    0.00 |    0.00 |    3 |   0 |    0.00 |    0.00 |              0.00 |              0.00 |   0.00 |   0.00 |    0 |     |\n",
    "|         |          |      |   |  | |         |        |         0.00 |          0.00 |         0.00 |     |        |         |          |          |62B0   |     0.00 |     0.00 |   0.00 |   0.00 |         |\n"
   ]
  },
  {
   "cell_type": "code",
   "execution_count": 1,
   "metadata": {
    "collapsed": false
   },
   "outputs": [],
   "source": [
    "with open(\"C:\\\\GICA_DA\\\\Russia 2016\\\\02-InputData\\\\01025564\\\\01025564\\\\reguh.txt\",\"r\") as new,\\\n",
    "    open(\"C:\\\\GICA_DA\\\\Russia 2016\\\\02-InputData\\\\01025564\\\\01025564\\\\h_reguh.txt\",\"w\") as newer: \n",
    "        L=new.readlines()\n",
    "        newer.write(L[3].strip()+L[4].strip()+'\\n')\n",
    "        for count,line in enumerate(L,start=1):\n",
    "            if count % 2 ==0 and count>5 and count<len(L):\n",
    "                newer.write(L[count].strip()+L[count+1].strip()+'\\n')\n",
    "\n",
    "newer.close()\n",
    "new.close()"
   ]
  },
  {
   "cell_type": "code",
   "execution_count": null,
   "metadata": {
    "collapsed": true
   },
   "outputs": [],
   "source": []
  }
 ],
 "metadata": {
  "kernelspec": {
   "display_name": "Python 2",
   "language": "python",
   "name": "python2"
  },
  "language_info": {
   "codemirror_mode": {
    "name": "ipython",
    "version": 2
   },
   "file_extension": ".py",
   "mimetype": "text/x-python",
   "name": "python",
   "nbconvert_exporter": "python",
   "pygments_lexer": "ipython2",
   "version": "2.7.11"
  }
 },
 "nbformat": 4,
 "nbformat_minor": 0
}
